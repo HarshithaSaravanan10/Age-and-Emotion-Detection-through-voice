{
 "cells": [
  {
   "cell_type": "code",
   "execution_count": 9,
   "id": "e76e0127-1ece-433d-a432-2fc9616258ea",
   "metadata": {},
   "outputs": [
    {
     "name": "stdout",
     "output_type": "stream",
     "text": [
      "✅ Total samples with gender info: 88\n"
     ]
    },
    {
     "data": {
      "text/html": [
       "<div>\n",
       "<style scoped>\n",
       "    .dataframe tbody tr th:only-of-type {\n",
       "        vertical-align: middle;\n",
       "    }\n",
       "\n",
       "    .dataframe tbody tr th {\n",
       "        vertical-align: top;\n",
       "    }\n",
       "\n",
       "    .dataframe thead th {\n",
       "        text-align: right;\n",
       "    }\n",
       "</style>\n",
       "<table border=\"1\" class=\"dataframe\">\n",
       "  <thead>\n",
       "    <tr style=\"text-align: right;\">\n",
       "      <th></th>\n",
       "      <th>client_id</th>\n",
       "      <th>path</th>\n",
       "      <th>sentence_id</th>\n",
       "      <th>sentence</th>\n",
       "      <th>sentence_domain</th>\n",
       "      <th>up_votes</th>\n",
       "      <th>down_votes</th>\n",
       "      <th>age</th>\n",
       "      <th>gender</th>\n",
       "      <th>accents</th>\n",
       "      <th>variant</th>\n",
       "      <th>locale</th>\n",
       "      <th>segment</th>\n",
       "    </tr>\n",
       "  </thead>\n",
       "  <tbody>\n",
       "    <tr>\n",
       "      <th>0</th>\n",
       "      <td>06c3ce6c362cb98ab3d50d2b2c34bdd84e73584e9a7a5a...</td>\n",
       "      <td>common_voice_en_42736613.mp3</td>\n",
       "      <td>f8a8adc4e17873eca165691ef65cc4fbf61f02e86b8958...</td>\n",
       "      <td>There is also an interchange with the Thousand...</td>\n",
       "      <td>NaN</td>\n",
       "      <td>2</td>\n",
       "      <td>0</td>\n",
       "      <td>twenties</td>\n",
       "      <td>female_feminine</td>\n",
       "      <td>United States English</td>\n",
       "      <td>NaN</td>\n",
       "      <td>en</td>\n",
       "      <td>NaN</td>\n",
       "    </tr>\n",
       "    <tr>\n",
       "      <th>1</th>\n",
       "      <td>0f96302cb9d236c534f6608f1b152eeba8ea295b975d82...</td>\n",
       "      <td>common_voice_en_42798328.mp3</td>\n",
       "      <td>f941273f163f3cd7e1d91f29f6f3d9f7d7e8b34b9885d4...</td>\n",
       "      <td>Five days later, Royal Marines boarded the pla...</td>\n",
       "      <td>NaN</td>\n",
       "      <td>2</td>\n",
       "      <td>0</td>\n",
       "      <td>thirties</td>\n",
       "      <td>female_feminine</td>\n",
       "      <td>England English</td>\n",
       "      <td>NaN</td>\n",
       "      <td>en</td>\n",
       "      <td>NaN</td>\n",
       "    </tr>\n",
       "    <tr>\n",
       "      <th>2</th>\n",
       "      <td>1fa92ab97bd0b041f2307b5f6251c873dab1984efc24a1...</td>\n",
       "      <td>common_voice_en_42752135.mp3</td>\n",
       "      <td>f8cf628944453a805163030f74f8c9f322d9b0529d94bf...</td>\n",
       "      <td>Okara is sometimes spread on fields as a natur...</td>\n",
       "      <td>NaN</td>\n",
       "      <td>2</td>\n",
       "      <td>0</td>\n",
       "      <td>twenties</td>\n",
       "      <td>female_feminine</td>\n",
       "      <td>England English</td>\n",
       "      <td>NaN</td>\n",
       "      <td>en</td>\n",
       "      <td>NaN</td>\n",
       "    </tr>\n",
       "    <tr>\n",
       "      <th>3</th>\n",
       "      <td>2079970dcf2fd88e61e7108614711bf90bcb3d60ce2729...</td>\n",
       "      <td>common_voice_en_42799557.mp3</td>\n",
       "      <td>f931a391ea94fc73737cbe6bf2a119c93fa0d7a025d2f1...</td>\n",
       "      <td>He became proficient in German.</td>\n",
       "      <td>NaN</td>\n",
       "      <td>2</td>\n",
       "      <td>0</td>\n",
       "      <td>twenties</td>\n",
       "      <td>female_feminine</td>\n",
       "      <td>Southern African (South Africa, Zimbabwe, Nami...</td>\n",
       "      <td>NaN</td>\n",
       "      <td>en</td>\n",
       "      <td>NaN</td>\n",
       "    </tr>\n",
       "    <tr>\n",
       "      <th>4</th>\n",
       "      <td>271461c947fcaf7ccceb3bcee1321f5ab5cf844ea210ab...</td>\n",
       "      <td>common_voice_en_43193287.mp3</td>\n",
       "      <td>fa6332790b5ac7881cd7aa4efeb99e9463b1302c596155...</td>\n",
       "      <td>Doctor T. S. Lin was then appointed as preside...</td>\n",
       "      <td>NaN</td>\n",
       "      <td>2</td>\n",
       "      <td>0</td>\n",
       "      <td>sixties</td>\n",
       "      <td>male_masculine</td>\n",
       "      <td>midwestern united states</td>\n",
       "      <td>NaN</td>\n",
       "      <td>en</td>\n",
       "      <td>NaN</td>\n",
       "    </tr>\n",
       "  </tbody>\n",
       "</table>\n",
       "</div>"
      ],
      "text/plain": [
       "                                           client_id  \\\n",
       "0  06c3ce6c362cb98ab3d50d2b2c34bdd84e73584e9a7a5a...   \n",
       "1  0f96302cb9d236c534f6608f1b152eeba8ea295b975d82...   \n",
       "2  1fa92ab97bd0b041f2307b5f6251c873dab1984efc24a1...   \n",
       "3  2079970dcf2fd88e61e7108614711bf90bcb3d60ce2729...   \n",
       "4  271461c947fcaf7ccceb3bcee1321f5ab5cf844ea210ab...   \n",
       "\n",
       "                           path  \\\n",
       "0  common_voice_en_42736613.mp3   \n",
       "1  common_voice_en_42798328.mp3   \n",
       "2  common_voice_en_42752135.mp3   \n",
       "3  common_voice_en_42799557.mp3   \n",
       "4  common_voice_en_43193287.mp3   \n",
       "\n",
       "                                         sentence_id  \\\n",
       "0  f8a8adc4e17873eca165691ef65cc4fbf61f02e86b8958...   \n",
       "1  f941273f163f3cd7e1d91f29f6f3d9f7d7e8b34b9885d4...   \n",
       "2  f8cf628944453a805163030f74f8c9f322d9b0529d94bf...   \n",
       "3  f931a391ea94fc73737cbe6bf2a119c93fa0d7a025d2f1...   \n",
       "4  fa6332790b5ac7881cd7aa4efeb99e9463b1302c596155...   \n",
       "\n",
       "                                            sentence sentence_domain  \\\n",
       "0  There is also an interchange with the Thousand...             NaN   \n",
       "1  Five days later, Royal Marines boarded the pla...             NaN   \n",
       "2  Okara is sometimes spread on fields as a natur...             NaN   \n",
       "3                    He became proficient in German.             NaN   \n",
       "4  Doctor T. S. Lin was then appointed as preside...             NaN   \n",
       "\n",
       "   up_votes  down_votes       age           gender  \\\n",
       "0         2           0  twenties  female_feminine   \n",
       "1         2           0  thirties  female_feminine   \n",
       "2         2           0  twenties  female_feminine   \n",
       "3         2           0  twenties  female_feminine   \n",
       "4         2           0   sixties   male_masculine   \n",
       "\n",
       "                                             accents  variant locale  segment  \n",
       "0                              United States English      NaN     en      NaN  \n",
       "1                                    England English      NaN     en      NaN  \n",
       "2                                    England English      NaN     en      NaN  \n",
       "3  Southern African (South Africa, Zimbabwe, Nami...      NaN     en      NaN  \n",
       "4                           midwestern united states      NaN     en      NaN  "
      ]
     },
     "execution_count": 9,
     "metadata": {},
     "output_type": "execute_result"
    }
   ],
   "source": [
    "# Keep only rows where 'gender' is known\n",
    "gender_data = data[data['gender'].notnull()]\n",
    "\n",
    "# Reset index for clean access\n",
    "gender_data = gender_data.reset_index(drop=True)\n",
    "\n",
    "print(\"✅ Total samples with gender info:\", len(gender_data))\n",
    "gender_data.head()\n"
   ]
  },
  {
   "cell_type": "code",
   "execution_count": 10,
   "id": "0e233188-a3b2-4fac-949b-69b8b9a28079",
   "metadata": {},
   "outputs": [
    {
     "name": "stdout",
     "output_type": "stream",
     "text": [
      "✅ Clean data samples: 83\n"
     ]
    },
    {
     "data": {
      "text/html": [
       "<div>\n",
       "<style scoped>\n",
       "    .dataframe tbody tr th:only-of-type {\n",
       "        vertical-align: middle;\n",
       "    }\n",
       "\n",
       "    .dataframe tbody tr th {\n",
       "        vertical-align: top;\n",
       "    }\n",
       "\n",
       "    .dataframe thead th {\n",
       "        text-align: right;\n",
       "    }\n",
       "</style>\n",
       "<table border=\"1\" class=\"dataframe\">\n",
       "  <thead>\n",
       "    <tr style=\"text-align: right;\">\n",
       "      <th></th>\n",
       "      <th>file_path</th>\n",
       "      <th>age</th>\n",
       "      <th>gender</th>\n",
       "    </tr>\n",
       "  </thead>\n",
       "  <tbody>\n",
       "    <tr>\n",
       "      <th>0</th>\n",
       "      <td>D:\\Data science\\datasets\\audio\\cv-corpus-22.0-...</td>\n",
       "      <td>twenties</td>\n",
       "      <td>male</td>\n",
       "    </tr>\n",
       "    <tr>\n",
       "      <th>1</th>\n",
       "      <td>D:\\Data science\\datasets\\audio\\cv-corpus-22.0-...</td>\n",
       "      <td>thirties</td>\n",
       "      <td>male</td>\n",
       "    </tr>\n",
       "    <tr>\n",
       "      <th>2</th>\n",
       "      <td>D:\\Data science\\datasets\\audio\\cv-corpus-22.0-...</td>\n",
       "      <td>twenties</td>\n",
       "      <td>male</td>\n",
       "    </tr>\n",
       "    <tr>\n",
       "      <th>3</th>\n",
       "      <td>D:\\Data science\\datasets\\audio\\cv-corpus-22.0-...</td>\n",
       "      <td>twenties</td>\n",
       "      <td>male</td>\n",
       "    </tr>\n",
       "    <tr>\n",
       "      <th>4</th>\n",
       "      <td>D:\\Data science\\datasets\\audio\\cv-corpus-22.0-...</td>\n",
       "      <td>sixties</td>\n",
       "      <td>male</td>\n",
       "    </tr>\n",
       "  </tbody>\n",
       "</table>\n",
       "</div>"
      ],
      "text/plain": [
       "                                           file_path       age gender\n",
       "0  D:\\Data science\\datasets\\audio\\cv-corpus-22.0-...  twenties   male\n",
       "1  D:\\Data science\\datasets\\audio\\cv-corpus-22.0-...  thirties   male\n",
       "2  D:\\Data science\\datasets\\audio\\cv-corpus-22.0-...  twenties   male\n",
       "3  D:\\Data science\\datasets\\audio\\cv-corpus-22.0-...  twenties   male\n",
       "4  D:\\Data science\\datasets\\audio\\cv-corpus-22.0-...   sixties   male"
      ]
     },
     "execution_count": 10,
     "metadata": {},
     "output_type": "execute_result"
    }
   ],
   "source": [
    "import pandas as pd\n",
    "import os\n",
    "\n",
    "# Load data\n",
    "file_path = r\"D:\\Data science\\datasets\\audio\\cv-corpus-22.0-delta-2025-06-20\\en\\validated.tsv\"\n",
    "data = pd.read_csv(file_path, sep='\\t')\n",
    "\n",
    "# Keep only rows that have both gender and age\n",
    "data = data[data['gender'].notnull() & data['age'].notnull()].reset_index(drop=True)\n",
    "\n",
    "# Simplify gender labels\n",
    "data['gender'] = data['gender'].apply(lambda x: 'male' if 'male' in x.lower() else 'female')\n",
    "\n",
    "# Add full audio path\n",
    "audio_dir = r\"D:\\Data science\\datasets\\audio\\cv-corpus-22.0-delta-2025-06-20\\en\\clips\"\n",
    "data['file_path'] = data['path'].apply(lambda x: os.path.join(audio_dir, x))\n",
    "\n",
    "print(\"✅ Clean data samples:\", len(data))\n",
    "data[['file_path', 'age', 'gender']].head()\n"
   ]
  },
  {
   "cell_type": "code",
   "execution_count": 11,
   "id": "01a00fdc-05d7-4921-b73f-7e7ff8a2bd92",
   "metadata": {},
   "outputs": [
    {
     "name": "stdout",
     "output_type": "stream",
     "text": [
      "✅ Clean data samples: 15\n"
     ]
    },
    {
     "data": {
      "text/html": [
       "<div>\n",
       "<style scoped>\n",
       "    .dataframe tbody tr th:only-of-type {\n",
       "        vertical-align: middle;\n",
       "    }\n",
       "\n",
       "    .dataframe tbody tr th {\n",
       "        vertical-align: top;\n",
       "    }\n",
       "\n",
       "    .dataframe thead th {\n",
       "        text-align: right;\n",
       "    }\n",
       "</style>\n",
       "<table border=\"1\" class=\"dataframe\">\n",
       "  <thead>\n",
       "    <tr style=\"text-align: right;\">\n",
       "      <th></th>\n",
       "      <th>file_path</th>\n",
       "      <th>age</th>\n",
       "      <th>gender</th>\n",
       "    </tr>\n",
       "  </thead>\n",
       "  <tbody>\n",
       "    <tr>\n",
       "      <th>0</th>\n",
       "      <td>D:\\Data science\\datasets\\audio\\cv-corpus-22.0-...</td>\n",
       "      <td>twenties</td>\n",
       "      <td>male</td>\n",
       "    </tr>\n",
       "    <tr>\n",
       "      <th>1</th>\n",
       "      <td>D:\\Data science\\datasets\\audio\\cv-corpus-22.0-...</td>\n",
       "      <td>twenties</td>\n",
       "      <td>male</td>\n",
       "    </tr>\n",
       "    <tr>\n",
       "      <th>2</th>\n",
       "      <td>D:\\Data science\\datasets\\audio\\cv-corpus-22.0-...</td>\n",
       "      <td>fourties</td>\n",
       "      <td>male</td>\n",
       "    </tr>\n",
       "    <tr>\n",
       "      <th>3</th>\n",
       "      <td>D:\\Data science\\datasets\\audio\\cv-corpus-22.0-...</td>\n",
       "      <td>fourties</td>\n",
       "      <td>male</td>\n",
       "    </tr>\n",
       "    <tr>\n",
       "      <th>4</th>\n",
       "      <td>D:\\Data science\\datasets\\audio\\cv-corpus-22.0-...</td>\n",
       "      <td>twenties</td>\n",
       "      <td>male</td>\n",
       "    </tr>\n",
       "  </tbody>\n",
       "</table>\n",
       "</div>"
      ],
      "text/plain": [
       "                                           file_path       age gender\n",
       "0  D:\\Data science\\datasets\\audio\\cv-corpus-22.0-...  twenties   male\n",
       "1  D:\\Data science\\datasets\\audio\\cv-corpus-22.0-...  twenties   male\n",
       "2  D:\\Data science\\datasets\\audio\\cv-corpus-22.0-...  fourties   male\n",
       "3  D:\\Data science\\datasets\\audio\\cv-corpus-22.0-...  fourties   male\n",
       "4  D:\\Data science\\datasets\\audio\\cv-corpus-22.0-...  twenties   male"
      ]
     },
     "execution_count": 11,
     "metadata": {},
     "output_type": "execute_result"
    }
   ],
   "source": [
    "import pandas as pd\n",
    "import os\n",
    "\n",
    "# Load data\n",
    "file_path = r\"D:\\Data science\\datasets\\audio\\cv-corpus-22.0-delta-2025-06-20\\en\\invalidated.tsv\"\n",
    "data = pd.read_csv(file_path, sep='\\t')\n",
    "\n",
    "# Keep only rows that have both gender and age\n",
    "data = data[data['gender'].notnull() & data['age'].notnull()].reset_index(drop=True)\n",
    "\n",
    "# Simplify gender labels\n",
    "data['gender'] = data['gender'].apply(lambda x: 'male' if 'male' in x.lower() else 'female')\n",
    "\n",
    "# Add full audio path\n",
    "audio_dir = r\"D:\\Data science\\datasets\\audio\\cv-corpus-22.0-delta-2025-06-20\\en\\clips\"\n",
    "data['file_path'] = data['path'].apply(lambda x: os.path.join(audio_dir, x))\n",
    "\n",
    "print(\"✅ Clean data samples:\", len(data))\n",
    "data[['file_path', 'age', 'gender']].head()\n"
   ]
  },
  {
   "cell_type": "code",
   "execution_count": 12,
   "id": "9dabd424-27de-4edf-8f47-3b9b9e151f6f",
   "metadata": {},
   "outputs": [
    {
     "name": "stdout",
     "output_type": "stream",
     "text": [
      "✅ Clean data samples: 9212\n"
     ]
    },
    {
     "data": {
      "text/html": [
       "<div>\n",
       "<style scoped>\n",
       "    .dataframe tbody tr th:only-of-type {\n",
       "        vertical-align: middle;\n",
       "    }\n",
       "\n",
       "    .dataframe tbody tr th {\n",
       "        vertical-align: top;\n",
       "    }\n",
       "\n",
       "    .dataframe thead th {\n",
       "        text-align: right;\n",
       "    }\n",
       "</style>\n",
       "<table border=\"1\" class=\"dataframe\">\n",
       "  <thead>\n",
       "    <tr style=\"text-align: right;\">\n",
       "      <th></th>\n",
       "      <th>file_path</th>\n",
       "      <th>age</th>\n",
       "      <th>gender</th>\n",
       "    </tr>\n",
       "  </thead>\n",
       "  <tbody>\n",
       "    <tr>\n",
       "      <th>0</th>\n",
       "      <td>D:\\Data science\\datasets\\audio\\cv-corpus-22.0-...</td>\n",
       "      <td>sixties</td>\n",
       "      <td>male</td>\n",
       "    </tr>\n",
       "    <tr>\n",
       "      <th>1</th>\n",
       "      <td>D:\\Data science\\datasets\\audio\\cv-corpus-22.0-...</td>\n",
       "      <td>sixties</td>\n",
       "      <td>male</td>\n",
       "    </tr>\n",
       "    <tr>\n",
       "      <th>2</th>\n",
       "      <td>D:\\Data science\\datasets\\audio\\cv-corpus-22.0-...</td>\n",
       "      <td>sixties</td>\n",
       "      <td>male</td>\n",
       "    </tr>\n",
       "    <tr>\n",
       "      <th>3</th>\n",
       "      <td>D:\\Data science\\datasets\\audio\\cv-corpus-22.0-...</td>\n",
       "      <td>sixties</td>\n",
       "      <td>male</td>\n",
       "    </tr>\n",
       "    <tr>\n",
       "      <th>4</th>\n",
       "      <td>D:\\Data science\\datasets\\audio\\cv-corpus-22.0-...</td>\n",
       "      <td>sixties</td>\n",
       "      <td>male</td>\n",
       "    </tr>\n",
       "  </tbody>\n",
       "</table>\n",
       "</div>"
      ],
      "text/plain": [
       "                                           file_path      age gender\n",
       "0  D:\\Data science\\datasets\\audio\\cv-corpus-22.0-...  sixties   male\n",
       "1  D:\\Data science\\datasets\\audio\\cv-corpus-22.0-...  sixties   male\n",
       "2  D:\\Data science\\datasets\\audio\\cv-corpus-22.0-...  sixties   male\n",
       "3  D:\\Data science\\datasets\\audio\\cv-corpus-22.0-...  sixties   male\n",
       "4  D:\\Data science\\datasets\\audio\\cv-corpus-22.0-...  sixties   male"
      ]
     },
     "execution_count": 12,
     "metadata": {},
     "output_type": "execute_result"
    }
   ],
   "source": [
    "import pandas as pd\n",
    "import os\n",
    "\n",
    "# Load data\n",
    "file_path = r\"D:\\Data science\\datasets\\audio\\cv-corpus-22.0-delta-2025-06-20\\en\\other.tsv\"\n",
    "data = pd.read_csv(file_path, sep='\\t')\n",
    "\n",
    "# Keep only rows that have both gender and age\n",
    "data = data[data['gender'].notnull() & data['age'].notnull()].reset_index(drop=True)\n",
    "\n",
    "# Simplify gender labels\n",
    "data['gender'] = data['gender'].apply(lambda x: 'male' if 'male' in x.lower() else 'female')\n",
    "\n",
    "# Add full audio path\n",
    "audio_dir = r\"D:\\Data science\\datasets\\audio\\cv-corpus-22.0-delta-2025-06-20\\en\\clips\"\n",
    "data['file_path'] = data['path'].apply(lambda x: os.path.join(audio_dir, x))\n",
    "\n",
    "print(\"✅ Clean data samples:\", len(data))\n",
    "data[['file_path', 'age', 'gender']].head()\n"
   ]
  },
  {
   "cell_type": "code",
   "execution_count": 23,
   "id": "a82067c1-46e8-4823-bc38-c8eeb6f716d6",
   "metadata": {},
   "outputs": [
    {
     "name": "stdout",
     "output_type": "stream",
     "text": [
      "✅ Total clean samples: 9310\n"
     ]
    },
    {
     "data": {
      "text/html": [
       "<div>\n",
       "<style scoped>\n",
       "    .dataframe tbody tr th:only-of-type {\n",
       "        vertical-align: middle;\n",
       "    }\n",
       "\n",
       "    .dataframe tbody tr th {\n",
       "        vertical-align: top;\n",
       "    }\n",
       "\n",
       "    .dataframe thead th {\n",
       "        text-align: right;\n",
       "    }\n",
       "</style>\n",
       "<table border=\"1\" class=\"dataframe\">\n",
       "  <thead>\n",
       "    <tr style=\"text-align: right;\">\n",
       "      <th></th>\n",
       "      <th>file_path</th>\n",
       "      <th>age</th>\n",
       "      <th>gender</th>\n",
       "    </tr>\n",
       "  </thead>\n",
       "  <tbody>\n",
       "    <tr>\n",
       "      <th>0</th>\n",
       "      <td>D:\\Data science\\datasets\\audio\\cv-corpus-22.0-...</td>\n",
       "      <td>sixties</td>\n",
       "      <td>male</td>\n",
       "    </tr>\n",
       "    <tr>\n",
       "      <th>1</th>\n",
       "      <td>D:\\Data science\\datasets\\audio\\cv-corpus-22.0-...</td>\n",
       "      <td>sixties</td>\n",
       "      <td>male</td>\n",
       "    </tr>\n",
       "    <tr>\n",
       "      <th>2</th>\n",
       "      <td>D:\\Data science\\datasets\\audio\\cv-corpus-22.0-...</td>\n",
       "      <td>sixties</td>\n",
       "      <td>male</td>\n",
       "    </tr>\n",
       "    <tr>\n",
       "      <th>3</th>\n",
       "      <td>D:\\Data science\\datasets\\audio\\cv-corpus-22.0-...</td>\n",
       "      <td>sixties</td>\n",
       "      <td>male</td>\n",
       "    </tr>\n",
       "    <tr>\n",
       "      <th>4</th>\n",
       "      <td>D:\\Data science\\datasets\\audio\\cv-corpus-22.0-...</td>\n",
       "      <td>sixties</td>\n",
       "      <td>male</td>\n",
       "    </tr>\n",
       "  </tbody>\n",
       "</table>\n",
       "</div>"
      ],
      "text/plain": [
       "                                           file_path      age gender\n",
       "0  D:\\Data science\\datasets\\audio\\cv-corpus-22.0-...  sixties   male\n",
       "1  D:\\Data science\\datasets\\audio\\cv-corpus-22.0-...  sixties   male\n",
       "2  D:\\Data science\\datasets\\audio\\cv-corpus-22.0-...  sixties   male\n",
       "3  D:\\Data science\\datasets\\audio\\cv-corpus-22.0-...  sixties   male\n",
       "4  D:\\Data science\\datasets\\audio\\cv-corpus-22.0-...  sixties   male"
      ]
     },
     "execution_count": 23,
     "metadata": {},
     "output_type": "execute_result"
    }
   ],
   "source": [
    "import pandas as pd\n",
    "import os\n",
    "\n",
    "# File paths\n",
    "files = [\n",
    "    r\"D:\\Data science\\datasets\\audio\\cv-corpus-22.0-delta-2025-06-20\\en\\other.tsv\",\n",
    "    r\"D:\\Data science\\datasets\\audio\\cv-corpus-22.0-delta-2025-06-20\\en\\invalidated.tsv\",\n",
    "    r\"D:\\Data science\\datasets\\audio\\cv-corpus-22.0-delta-2025-06-20\\en\\validated.tsv\"\n",
    "]\n",
    "\n",
    "audio_dir = r\"D:\\Data science\\datasets\\audio\\cv-corpus-22.0-delta-2025-06-20\\en\\clips\"\n",
    "\n",
    "# Load, clean, and combine\n",
    "all_data = []\n",
    "for file_path in files:\n",
    "    data = pd.read_csv(file_path, sep='\\t')\n",
    "    data = data[data['gender'].notnull() & data['age'].notnull()]\n",
    "    data['gender'] = data['gender'].apply(lambda x: 'male' if 'male' in x.lower() else 'female')\n",
    "    data['file_path'] = data['path'].apply(lambda x: os.path.join(audio_dir, x))\n",
    "    all_data.append(data[['file_path', 'age', 'gender']])\n",
    "\n",
    "master_data = pd.concat(all_data, ignore_index=True)\n",
    "print(\"✅ Total clean samples:\", len(master_data))\n",
    "master_data.head()\n"
   ]
  },
  {
   "cell_type": "code",
   "execution_count": 24,
   "id": "91672dcb-1ab9-4f87-8a1f-cdf0a42af12f",
   "metadata": {},
   "outputs": [
    {
     "name": "stdout",
     "output_type": "stream",
     "text": [
      "gender\n",
      "male      9263\n",
      "female      47\n",
      "Name: count, dtype: int64\n",
      "age\n",
      "twenties     4133\n",
      "sixties      2315\n",
      "fourties     1153\n",
      "thirties     1056\n",
      "eighties      200\n",
      "fifties       186\n",
      "teens         142\n",
      "seventies     125\n",
      "Name: count, dtype: int64\n"
     ]
    }
   ],
   "source": [
    "print(master_data['gender'].value_counts())\n",
    "print(master_data['age'].value_counts())\n"
   ]
  },
  {
   "cell_type": "code",
   "execution_count": null,
   "id": "4bc9425e-979c-4e58-9188-fdbacc81a5e3",
   "metadata": {},
   "outputs": [],
   "source": []
  },
  {
   "cell_type": "code",
   "execution_count": 18,
   "id": "28bda1d4-c2bb-46dd-8003-acab822ded36",
   "metadata": {},
   "outputs": [
    {
     "name": "stdout",
     "output_type": "stream",
     "text": [
      "Requirement already satisfied: torch in d:\\anaconda\\lib\\site-packages (2.8.0)\n",
      "Requirement already satisfied: torchaudio in d:\\anaconda\\lib\\site-packages (2.8.0)\n",
      "Requirement already satisfied: pandas in d:\\anaconda\\lib\\site-packages (2.3.3)\n",
      "Requirement already satisfied: scikit-learn in d:\\anaconda\\lib\\site-packages (1.7.2)\n",
      "Requirement already satisfied: filelock in d:\\anaconda\\lib\\site-packages (from torch) (3.20.0)\n",
      "Requirement already satisfied: typing-extensions>=4.10.0 in d:\\anaconda\\lib\\site-packages (from torch) (4.12.2)\n",
      "Requirement already satisfied: sympy>=1.13.3 in d:\\anaconda\\lib\\site-packages (from torch) (1.14.0)\n",
      "Requirement already satisfied: networkx in d:\\anaconda\\lib\\site-packages (from torch) (3.3)\n",
      "Requirement already satisfied: jinja2 in d:\\anaconda\\lib\\site-packages (from torch) (3.1.4)\n",
      "Requirement already satisfied: fsspec in d:\\anaconda\\lib\\site-packages (from torch) (2024.6.1)\n",
      "Requirement already satisfied: setuptools in d:\\anaconda\\lib\\site-packages (from torch) (75.1.0)\n",
      "Requirement already satisfied: numpy>=1.26.0 in d:\\anaconda\\lib\\site-packages (from pandas) (1.26.4)\n",
      "Requirement already satisfied: python-dateutil>=2.8.2 in d:\\anaconda\\lib\\site-packages (from pandas) (2.9.0.post0)\n",
      "Requirement already satisfied: pytz>=2020.1 in d:\\anaconda\\lib\\site-packages (from pandas) (2024.1)\n",
      "Requirement already satisfied: tzdata>=2022.7 in d:\\anaconda\\lib\\site-packages (from pandas) (2023.3)\n",
      "Requirement already satisfied: scipy>=1.8.0 in d:\\anaconda\\lib\\site-packages (from scikit-learn) (1.16.2)\n",
      "Requirement already satisfied: joblib>=1.2.0 in d:\\anaconda\\lib\\site-packages (from scikit-learn) (1.4.2)\n",
      "Requirement already satisfied: threadpoolctl>=3.1.0 in d:\\anaconda\\lib\\site-packages (from scikit-learn) (3.5.0)\n",
      "Requirement already satisfied: six>=1.5 in d:\\anaconda\\lib\\site-packages (from python-dateutil>=2.8.2->pandas) (1.16.0)\n",
      "Requirement already satisfied: mpmath<1.4,>=1.1.0 in d:\\anaconda\\lib\\site-packages (from sympy>=1.13.3->torch) (1.3.0)\n",
      "Requirement already satisfied: MarkupSafe>=2.0 in d:\\anaconda\\lib\\site-packages (from jinja2->torch) (2.1.3)\n",
      "Note: you may need to restart the kernel to use updated packages.\n"
     ]
    }
   ],
   "source": [
    "pip install torch torchaudio pandas scikit-learn\n"
   ]
  },
  {
   "cell_type": "code",
   "execution_count": 3,
   "id": "b85b23bf-2328-4221-85ae-133495714922",
   "metadata": {},
   "outputs": [
    {
     "name": "stdout",
     "output_type": "stream",
     "text": [
      "✅ Total samples in master_data: 12472\n"
     ]
    },
    {
     "data": {
      "text/html": [
       "<div>\n",
       "<style scoped>\n",
       "    .dataframe tbody tr th:only-of-type {\n",
       "        vertical-align: middle;\n",
       "    }\n",
       "\n",
       "    .dataframe tbody tr th {\n",
       "        vertical-align: top;\n",
       "    }\n",
       "\n",
       "    .dataframe thead th {\n",
       "        text-align: right;\n",
       "    }\n",
       "</style>\n",
       "<table border=\"1\" class=\"dataframe\">\n",
       "  <thead>\n",
       "    <tr style=\"text-align: right;\">\n",
       "      <th></th>\n",
       "      <th>file_path</th>\n",
       "      <th>age</th>\n",
       "    </tr>\n",
       "  </thead>\n",
       "  <tbody>\n",
       "    <tr>\n",
       "      <th>0</th>\n",
       "      <td>D:\\Data science\\datasets\\audio\\cv-corpus-22.0-...</td>\n",
       "      <td>twenties</td>\n",
       "    </tr>\n",
       "    <tr>\n",
       "      <th>1</th>\n",
       "      <td>D:\\Data science\\datasets\\audio\\cv-corpus-22.0-...</td>\n",
       "      <td>twenties</td>\n",
       "    </tr>\n",
       "    <tr>\n",
       "      <th>2</th>\n",
       "      <td>D:\\Data science\\datasets\\audio\\cv-corpus-22.0-...</td>\n",
       "      <td>twenties</td>\n",
       "    </tr>\n",
       "    <tr>\n",
       "      <th>3</th>\n",
       "      <td>D:\\Data science\\datasets\\audio\\cv-corpus-22.0-...</td>\n",
       "      <td>twenties</td>\n",
       "    </tr>\n",
       "    <tr>\n",
       "      <th>4</th>\n",
       "      <td>D:\\Data science\\datasets\\audio\\cv-corpus-22.0-...</td>\n",
       "      <td>twenties</td>\n",
       "    </tr>\n",
       "  </tbody>\n",
       "</table>\n",
       "</div>"
      ],
      "text/plain": [
       "                                           file_path       age\n",
       "0  D:\\Data science\\datasets\\audio\\cv-corpus-22.0-...  twenties\n",
       "1  D:\\Data science\\datasets\\audio\\cv-corpus-22.0-...  twenties\n",
       "2  D:\\Data science\\datasets\\audio\\cv-corpus-22.0-...  twenties\n",
       "3  D:\\Data science\\datasets\\audio\\cv-corpus-22.0-...  twenties\n",
       "4  D:\\Data science\\datasets\\audio\\cv-corpus-22.0-...  twenties"
      ]
     },
     "execution_count": 3,
     "metadata": {},
     "output_type": "execute_result"
    }
   ],
   "source": [
    "import pandas as pd\n",
    "import os\n",
    "\n",
    "# Paths to TSV files\n",
    "tsv_files = [\n",
    "    r\"D:\\Data science\\datasets\\audio\\cv-corpus-22.0-delta-2025-06-20\\en\\other.tsv\",\n",
    "    r\"D:\\Data science\\datasets\\audio\\cv-corpus-22.0-delta-2025-06-20\\en\\invalidated.tsv\",\n",
    "    r\"D:\\Data science\\datasets\\audio\\cv-corpus-22.0-delta-2025-06-20\\en\\validated.tsv\"\n",
    "]\n",
    "\n",
    "audio_dir = r\"D:\\Data science\\datasets\\audio\\cv-corpus-22.0-delta-2025-06-20\\en\\clips\"\n",
    "\n",
    "all_data = []\n",
    "\n",
    "for file_path in tsv_files:\n",
    "    df = pd.read_csv(file_path, sep='\\t')\n",
    "    # Keep only rows with age\n",
    "    df = df[df['age'].notnull()].reset_index(drop=True)\n",
    "    # Add full audio path\n",
    "    df['file_path'] = df['path'].apply(lambda x: os.path.join(audio_dir, x))\n",
    "    # Keep only necessary columns\n",
    "    df = df[['file_path', 'age']]\n",
    "    all_data.append(df)\n",
    "\n",
    "# Combine all into master_data\n",
    "master_data = pd.concat(all_data, ignore_index=True)\n",
    "print(\"✅ Total samples in master_data:\", len(master_data))\n",
    "master_data.head()\n"
   ]
  },
  {
   "cell_type": "code",
   "execution_count": 4,
   "id": "516e9e08-c887-463b-b32c-5480f4a19515",
   "metadata": {},
   "outputs": [
    {
     "name": "stdout",
     "output_type": "stream",
     "text": [
      "age\n",
      "twenties     4976\n",
      "sixties      2366\n",
      "fourties     1737\n",
      "thirties     1688\n",
      "fifties       641\n",
      "teens         577\n",
      "eighties      277\n",
      "seventies     210\n",
      "Name: count, dtype: int64\n",
      "Minimum samples per age group: 210\n",
      "age\n",
      "eighties     210\n",
      "fifties      210\n",
      "fourties     210\n",
      "seventies    210\n",
      "sixties      210\n",
      "teens        210\n",
      "thirties     210\n",
      "twenties     210\n",
      "Name: count, dtype: int64\n"
     ]
    }
   ],
   "source": [
    "import pandas as pd\n",
    "\n",
    "# Check counts per age group\n",
    "print(master_data['age'].value_counts())\n",
    "\n",
    "# Find the minimum count among age groups\n",
    "min_count = master_data['age'].value_counts().min()\n",
    "print(\"Minimum samples per age group:\", min_count)\n",
    "\n",
    "# Downsample each age group to the minimum count\n",
    "balanced_data = master_data.groupby('age').sample(n=min_count, random_state=42).reset_index(drop=True)\n",
    "\n",
    "# Verify balancing\n",
    "print(balanced_data['age'].value_counts())\n"
   ]
  },
  {
   "cell_type": "code",
   "execution_count": 5,
   "id": "284a32a7-0d3d-4cb9-beb3-8b0542e4af4d",
   "metadata": {},
   "outputs": [
    {
     "name": "stderr",
     "output_type": "stream",
     "text": [
      "D:\\anaconda\\Lib\\site-packages\\paramiko\\pkey.py:82: CryptographyDeprecationWarning: TripleDES has been moved to cryptography.hazmat.decrepit.ciphers.algorithms.TripleDES and will be removed from this module in 48.0.0.\n",
      "  \"cipher\": algorithms.TripleDES,\n",
      "D:\\anaconda\\Lib\\site-packages\\paramiko\\transport.py:219: CryptographyDeprecationWarning: Blowfish has been moved to cryptography.hazmat.decrepit.ciphers.algorithms.Blowfish and will be removed from this module in 45.0.0.\n",
      "  \"class\": algorithms.Blowfish,\n",
      "D:\\anaconda\\Lib\\site-packages\\paramiko\\transport.py:243: CryptographyDeprecationWarning: TripleDES has been moved to cryptography.hazmat.decrepit.ciphers.algorithms.TripleDES and will be removed from this module in 48.0.0.\n",
      "  \"class\": algorithms.TripleDES,\n"
     ]
    },
    {
     "name": "stdout",
     "output_type": "stream",
     "text": [
      "Feature matrix shape: (1680, 13)\n",
      "Labels shape: (1680,)\n"
     ]
    }
   ],
   "source": [
    "import librosa\n",
    "import numpy as np\n",
    "\n",
    "# Function to extract features\n",
    "def extract_features(file_path, n_mfcc=13):\n",
    "    try:\n",
    "        y, sr = librosa.load(file_path, sr=None)  # Load audio\n",
    "        mfccs = librosa.feature.mfcc(y=y, sr=sr, n_mfcc=n_mfcc)\n",
    "        mfccs_mean = np.mean(mfccs.T, axis=0)  # Take mean across time\n",
    "        return mfccs_mean\n",
    "    except Exception as e:\n",
    "        print(\"Error loading:\", file_path, e)\n",
    "        return None\n",
    "\n",
    "# Extract features for all samples\n",
    "features = []\n",
    "ages = []\n",
    "\n",
    "for idx, row in balanced_data.iterrows():\n",
    "    feat = extract_features(row['file_path'])\n",
    "    if feat is not None:\n",
    "        features.append(feat)\n",
    "        ages.append(row['age'])\n",
    "\n",
    "# Convert to numpy arrays\n",
    "X = np.array(features)\n",
    "y = np.array(ages)\n",
    "\n",
    "print(\"Feature matrix shape:\", X.shape)\n",
    "print(\"Labels shape:\", y.shape)\n"
   ]
  },
  {
   "cell_type": "code",
   "execution_count": 6,
   "id": "8eb45b3a-a16d-46e4-a497-bb5b146de320",
   "metadata": {},
   "outputs": [
    {
     "name": "stdout",
     "output_type": "stream",
     "text": [
      "Accuracy: 0.7797619047619048\n",
      "\n",
      "Classification Report:\n",
      "               precision    recall  f1-score   support\n",
      "\n",
      "    eighties       0.85      0.98      0.91        42\n",
      "     fifties       0.86      0.76      0.81        42\n",
      "    fourties       0.79      0.74      0.77        42\n",
      "   seventies       0.89      0.93      0.91        42\n",
      "     sixties       0.78      0.95      0.86        42\n",
      "       teens       0.74      0.67      0.70        42\n",
      "    thirties       0.66      0.55      0.60        42\n",
      "    twenties       0.64      0.67      0.65        42\n",
      "\n",
      "    accuracy                           0.78       336\n",
      "   macro avg       0.78      0.78      0.78       336\n",
      "weighted avg       0.78      0.78      0.78       336\n",
      "\n"
     ]
    }
   ],
   "source": [
    "from sklearn.preprocessing import LabelEncoder\n",
    "from sklearn.model_selection import train_test_split\n",
    "from sklearn.ensemble import RandomForestClassifier\n",
    "from sklearn.metrics import accuracy_score, classification_report\n",
    "\n",
    "# Encode age labels\n",
    "le = LabelEncoder()\n",
    "y_encoded = le.fit_transform(y)\n",
    "\n",
    "# Split data\n",
    "X_train, X_test, y_train, y_test = train_test_split(X, y_encoded, test_size=0.2, random_state=42, stratify=y_encoded)\n",
    "\n",
    "# Train Random Forest\n",
    "clf = RandomForestClassifier(n_estimators=100, random_state=42)\n",
    "clf.fit(X_train, y_train)\n",
    "\n",
    "# Predict\n",
    "y_pred = clf.predict(X_test)\n",
    "\n",
    "# Evaluate\n",
    "print(\"Accuracy:\", accuracy_score(y_test, y_pred))\n",
    "print(\"\\nClassification Report:\\n\", classification_report(y_test, y_pred, target_names=le.classes_))\n"
   ]
  },
  {
   "cell_type": "code",
   "execution_count": 9,
   "id": "19999c0c-3826-414c-a0d6-79c6530731ca",
   "metadata": {},
   "outputs": [
    {
     "name": "stdout",
     "output_type": "stream",
     "text": [
      "✅ Model saved as age_prediction_model.pkl\n"
     ]
    }
   ],
   "source": [
    "import joblib\n",
    "\n",
    "# Save the trained model\n",
    "joblib.dump(clf, \"age_prediction_model_voice.pkl\")\n",
    "print(\"✅ Model saved as age_prediction_model.pkl\")\n",
    "\n",
    "# To load the model later\n",
    "# loaded_model = joblib.load(\"age_prediction_model.pkl\")\n",
    "# predictions = loaded_model.predict(X_test)\n"
   ]
  },
  {
   "cell_type": "code",
   "execution_count": 10,
   "id": "04806274-e9ff-4258-a9a8-5f1a91aebbd2",
   "metadata": {},
   "outputs": [],
   "source": [
    "import numpy as np\n",
    "import librosa\n",
    "\n",
    "def extract_features(file_path, n_mfcc=13):\n",
    "    audio, sr = librosa.load(file_path, sr=None)\n",
    "    mfccs = librosa.feature.mfcc(y=audio, sr=sr, n_mfcc=n_mfcc)\n",
    "    mfccs_mean = np.mean(mfccs.T, axis=0)\n",
    "    return mfccs_mean\n"
   ]
  },
  {
   "cell_type": "code",
   "execution_count": 11,
   "id": "f3ab015c-71bc-4b6b-92af-cfff2ba407aa",
   "metadata": {},
   "outputs": [],
   "source": [
    "import joblib\n",
    "\n",
    "# Load the trained model\n",
    "model = joblib.load(\"age_prediction_model_voice.pkl\")\n"
   ]
  },
  {
   "cell_type": "code",
   "execution_count": 12,
   "id": "851cc9e7-1423-4786-8e59-c27c9eb701f2",
   "metadata": {},
   "outputs": [
    {
     "name": "stdout",
     "output_type": "stream",
     "text": [
      "Predicted age group: 4\n"
     ]
    }
   ],
   "source": [
    "# Path to your new audio file\n",
    "new_audio = r\"D:\\Data science\\datasets\\audio\\cv-corpus-22.0-delta-2025-06-20\\en\\clips\\common_voice_en_42706134.mp3\"\n",
    "\n",
    "# Extract features\n",
    "features = extract_features(new_audio)\n",
    "\n",
    "# Reshape to match model input (1 sample, n_features)\n",
    "features = features.reshape(1, -1)\n",
    "\n",
    "# Predict\n",
    "predicted_age = model.predict(features)\n",
    "print(\"Predicted age group:\", predicted_age[0])\n"
   ]
  },
  {
   "cell_type": "code",
   "execution_count": 13,
   "id": "3d7c9f69-d00e-4584-8cb5-a73f3e1521e4",
   "metadata": {},
   "outputs": [],
   "source": [
    "from sklearn.preprocessing import LabelEncoder\n",
    "\n",
    "le = LabelEncoder()\n",
    "y_encoded = le.fit_transform(master_data['age'])\n"
   ]
  },
  {
   "cell_type": "code",
   "execution_count": 14,
   "id": "3294e07e-02c0-4281-9022-fee029b13a33",
   "metadata": {},
   "outputs": [],
   "source": [
    "age_labels = ['twenties', 'thirties', 'fourties', 'fifties', 'sixties', 'seventies', 'eighties', 'teens']\n"
   ]
  },
  {
   "cell_type": "code",
   "execution_count": 15,
   "id": "cb0d53b8-3760-4aa7-be75-258cd5db635f",
   "metadata": {},
   "outputs": [],
   "source": [
    "import joblib\n",
    "\n",
    "# Save encoder after training\n",
    "joblib.dump(le, \"age_label_encoder.pkl\")\n",
    "\n",
    "# Later, load it\n",
    "le = joblib.load(\"age_label_encoder.pkl\")\n"
   ]
  },
  {
   "cell_type": "code",
   "execution_count": 16,
   "id": "45389055-0305-4767-93fd-c3c9ff49c243",
   "metadata": {},
   "outputs": [
    {
     "name": "stdout",
     "output_type": "stream",
     "text": [
      "Predicted age group: sixties\n"
     ]
    }
   ],
   "source": [
    "# Extract features from audio\n",
    "features = extract_features(new_audio)\n",
    "features = features.reshape(1, -1)\n",
    "\n",
    "# Predict numeric label\n",
    "predicted_numeric = model.predict(features)\n",
    "\n",
    "# Convert numeric label to actual age group\n",
    "predicted_age = le.inverse_transform(predicted_numeric)\n",
    "print(\"Predicted age group:\", predicted_age[0])\n"
   ]
  },
  {
   "cell_type": "code",
   "execution_count": 25,
   "id": "a3422b6e-09a1-4f03-a532-deb1d93994af",
   "metadata": {},
   "outputs": [
    {
     "name": "stdout",
     "output_type": "stream",
     "text": [
      "✅ Clean data samples: 9212\n"
     ]
    },
    {
     "data": {
      "text/html": [
       "<div>\n",
       "<style scoped>\n",
       "    .dataframe tbody tr th:only-of-type {\n",
       "        vertical-align: middle;\n",
       "    }\n",
       "\n",
       "    .dataframe tbody tr th {\n",
       "        vertical-align: top;\n",
       "    }\n",
       "\n",
       "    .dataframe thead th {\n",
       "        text-align: right;\n",
       "    }\n",
       "</style>\n",
       "<table border=\"1\" class=\"dataframe\">\n",
       "  <thead>\n",
       "    <tr style=\"text-align: right;\">\n",
       "      <th></th>\n",
       "      <th>file_path</th>\n",
       "      <th>age</th>\n",
       "      <th>gender</th>\n",
       "    </tr>\n",
       "  </thead>\n",
       "  <tbody>\n",
       "    <tr>\n",
       "      <th>0</th>\n",
       "      <td>D:\\Data science\\datasets\\audio\\cv-corpus-22.0-...</td>\n",
       "      <td>sixties</td>\n",
       "      <td>male</td>\n",
       "    </tr>\n",
       "    <tr>\n",
       "      <th>1</th>\n",
       "      <td>D:\\Data science\\datasets\\audio\\cv-corpus-22.0-...</td>\n",
       "      <td>sixties</td>\n",
       "      <td>male</td>\n",
       "    </tr>\n",
       "    <tr>\n",
       "      <th>2</th>\n",
       "      <td>D:\\Data science\\datasets\\audio\\cv-corpus-22.0-...</td>\n",
       "      <td>sixties</td>\n",
       "      <td>male</td>\n",
       "    </tr>\n",
       "    <tr>\n",
       "      <th>3</th>\n",
       "      <td>D:\\Data science\\datasets\\audio\\cv-corpus-22.0-...</td>\n",
       "      <td>sixties</td>\n",
       "      <td>male</td>\n",
       "    </tr>\n",
       "    <tr>\n",
       "      <th>4</th>\n",
       "      <td>D:\\Data science\\datasets\\audio\\cv-corpus-22.0-...</td>\n",
       "      <td>sixties</td>\n",
       "      <td>male</td>\n",
       "    </tr>\n",
       "  </tbody>\n",
       "</table>\n",
       "</div>"
      ],
      "text/plain": [
       "                                           file_path      age gender\n",
       "0  D:\\Data science\\datasets\\audio\\cv-corpus-22.0-...  sixties   male\n",
       "1  D:\\Data science\\datasets\\audio\\cv-corpus-22.0-...  sixties   male\n",
       "2  D:\\Data science\\datasets\\audio\\cv-corpus-22.0-...  sixties   male\n",
       "3  D:\\Data science\\datasets\\audio\\cv-corpus-22.0-...  sixties   male\n",
       "4  D:\\Data science\\datasets\\audio\\cv-corpus-22.0-...  sixties   male"
      ]
     },
     "execution_count": 25,
     "metadata": {},
     "output_type": "execute_result"
    }
   ],
   "source": [
    "import pandas as pd\n",
    "import os\n",
    "\n",
    "# Load data\n",
    "file_path = r\"D:\\Data science\\datasets\\audio\\cv-corpus-22.0-delta-2025-06-20\\en\\other.tsv\"\n",
    "data = pd.read_csv(file_path, sep='\\t')\n",
    "\n",
    "# Keep only rows that have both gender and age\n",
    "data = data[data['gender'].notnull() & data['age'].notnull()].reset_index(drop=True)\n",
    "\n",
    "# Simplify gender labels\n",
    "data['gender'] = data['gender'].apply(lambda x: 'male' if 'male' in x.lower() else 'female')\n",
    "\n",
    "# Add full audio path\n",
    "audio_dir = r\"D:\\Data science\\datasets\\audio\\cv-corpus-22.0-delta-2025-06-20\\en\\clips\"\n",
    "data['file_path'] = data['path'].apply(lambda x: os.path.join(audio_dir, x))\n",
    "\n",
    "print(\"✅ Clean data samples:\", len(data))\n",
    "data[['file_path', 'age', 'gender']].head()\n"
   ]
  },
  {
   "cell_type": "code",
   "execution_count": 26,
   "id": "85fdb9b9-f090-4b56-abdb-eeb951d05d1a",
   "metadata": {},
   "outputs": [
    {
     "name": "stdout",
     "output_type": "stream",
     "text": [
      "gender\n",
      "male      9263\n",
      "female      47\n",
      "Name: count, dtype: int64\n",
      "gender\n",
      "male      47\n",
      "female    47\n",
      "Name: count, dtype: int64\n",
      "✅ Balanced dataset samples: 94\n"
     ]
    }
   ],
   "source": [
    "import pandas as pd\n",
    "\n",
    "# Suppose master_data has columns ['file_path', 'age', 'gender']\n",
    "# Check class counts\n",
    "print(master_data['gender'].value_counts())\n",
    "\n",
    "# Separate classes\n",
    "male_data = master_data[master_data['gender'] == 'male']\n",
    "female_data = master_data[master_data['gender'] == 'female']\n",
    "\n",
    "# Downsample male to match female count\n",
    "female_count = len(female_data)\n",
    "male_downsampled = male_data.sample(n=female_count, random_state=42)\n",
    "\n",
    "# Combine back into balanced dataset\n",
    "balanced_data = pd.concat([male_downsampled, female_data], ignore_index=True)\n",
    "\n",
    "# Shuffle the dataset\n",
    "balanced_data = balanced_data.sample(frac=1, random_state=42).reset_index(drop=True)\n",
    "\n",
    "# Check new class counts\n",
    "print(balanced_data['gender'].value_counts())\n",
    "print(\"✅ Balanced dataset samples:\", len(balanced_data))\n"
   ]
  },
  {
   "cell_type": "code",
   "execution_count": 28,
   "id": "6929e077-751d-402b-bcf6-a7a5b47b8724",
   "metadata": {},
   "outputs": [],
   "source": [
    "import librosa\n",
    "import numpy as np\n",
    "\n",
    "def extract_features(file_path, n_mfcc=13):\n",
    "    try:\n",
    "        audio, sr = librosa.load(file_path, sr=None)\n",
    "        mfccs = librosa.feature.mfcc(y=audio, sr=sr, n_mfcc=n_mfcc)\n",
    "        # Take mean across time for fixed-length feature vector\n",
    "        return np.mean(mfccs.T, axis=0)\n",
    "    except:\n",
    "        return np.zeros(n_mfcc)  # If file fails to load\n"
   ]
  },
  {
   "cell_type": "code",
   "execution_count": 29,
   "id": "9c9fa74d-4716-4626-be16-598bf96099bd",
   "metadata": {},
   "outputs": [
    {
     "name": "stdout",
     "output_type": "stream",
     "text": [
      "Feature matrix shape: (9310, 13)\n",
      "Labels shape: (9310,)\n"
     ]
    }
   ],
   "source": [
    "X = np.array([extract_features(f) for f in master_data['file_path']])\n",
    "y = master_data['gender'].values\n",
    "\n",
    "print(\"Feature matrix shape:\", X.shape)\n",
    "print(\"Labels shape:\", y.shape)\n"
   ]
  },
  {
   "cell_type": "code",
   "execution_count": 30,
   "id": "60508913-f5c0-4060-bbe3-bfb750b23b4c",
   "metadata": {},
   "outputs": [],
   "source": [
    "from sklearn.model_selection import train_test_split\n",
    "\n",
    "X_train, X_test, y_train, y_test = train_test_split(\n",
    "    X, y, test_size=0.2, random_state=42, stratify=y\n",
    ")\n"
   ]
  },
  {
   "cell_type": "code",
   "execution_count": 31,
   "id": "467c586b-de9b-44ff-86b2-d6a1dbceb251",
   "metadata": {},
   "outputs": [
    {
     "name": "stdout",
     "output_type": "stream",
     "text": [
      "Accuracy: 0.9951664876476907\n",
      "\n",
      "Classification Report:\n",
      "               precision    recall  f1-score   support\n",
      "\n",
      "      female       0.00      0.00      0.00         9\n",
      "        male       1.00      1.00      1.00      1853\n",
      "\n",
      "    accuracy                           1.00      1862\n",
      "   macro avg       0.50      0.50      0.50      1862\n",
      "weighted avg       0.99      1.00      0.99      1862\n",
      "\n"
     ]
    },
    {
     "name": "stderr",
     "output_type": "stream",
     "text": [
      "D:\\anaconda\\Lib\\site-packages\\sklearn\\metrics\\_classification.py:1731: UndefinedMetricWarning: Precision is ill-defined and being set to 0.0 in labels with no predicted samples. Use `zero_division` parameter to control this behavior.\n",
      "  _warn_prf(average, modifier, f\"{metric.capitalize()} is\", result.shape[0])\n",
      "D:\\anaconda\\Lib\\site-packages\\sklearn\\metrics\\_classification.py:1731: UndefinedMetricWarning: Precision is ill-defined and being set to 0.0 in labels with no predicted samples. Use `zero_division` parameter to control this behavior.\n",
      "  _warn_prf(average, modifier, f\"{metric.capitalize()} is\", result.shape[0])\n",
      "D:\\anaconda\\Lib\\site-packages\\sklearn\\metrics\\_classification.py:1731: UndefinedMetricWarning: Precision is ill-defined and being set to 0.0 in labels with no predicted samples. Use `zero_division` parameter to control this behavior.\n",
      "  _warn_prf(average, modifier, f\"{metric.capitalize()} is\", result.shape[0])\n"
     ]
    }
   ],
   "source": [
    "from sklearn.ensemble import RandomForestClassifier\n",
    "from sklearn.metrics import accuracy_score, classification_report\n",
    "import joblib\n",
    "\n",
    "clf = RandomForestClassifier(n_estimators=200, random_state=42)\n",
    "clf.fit(X_train, y_train)\n",
    "\n",
    "y_pred = clf.predict(X_test)\n",
    "print(\"Accuracy:\", accuracy_score(y_test, y_pred))\n",
    "print(\"\\nClassification Report:\\n\", classification_report(y_test, y_pred))\n"
   ]
  },
  {
   "cell_type": "code",
   "execution_count": 32,
   "id": "c3475d7d-99ad-4db8-87af-d547c8eb6eef",
   "metadata": {},
   "outputs": [
    {
     "name": "stdout",
     "output_type": "stream",
     "text": [
      "✅ Gender prediction model saved!\n"
     ]
    }
   ],
   "source": [
    "joblib.dump(clf, \"gender_prediction_model_voice.pkl\")\n",
    "print(\"✅ Gender prediction model saved!\")\n"
   ]
  },
  {
   "cell_type": "code",
   "execution_count": 33,
   "id": "52aa348a-91c8-4894-817f-d678a7187a26",
   "metadata": {},
   "outputs": [
    {
     "name": "stdout",
     "output_type": "stream",
     "text": [
      "Predicted gender: male\n"
     ]
    }
   ],
   "source": [
    "# Example\n",
    "file_path = r\"D:\\Data science\\datasets\\audio\\cv-corpus-22.0-delta-2025-06-20\\en\\clips\\common_voice_en_42706134.mp3\"\n",
    "features = extract_features(file_path).reshape(1, -1)\n",
    "predicted_gender = clf.predict(features)[0]\n",
    "print(\"Predicted gender:\", predicted_gender)\n"
   ]
  },
  {
   "cell_type": "code",
   "execution_count": 40,
   "id": "108e632e-aaba-46ea-b849-958ad2f31e32",
   "metadata": {},
   "outputs": [
    {
     "name": "stdout",
     "output_type": "stream",
     "text": [
      "Accuracy: 0.20345385860766324\n",
      "Classification Report:\n",
      "               precision    recall  f1-score   support\n",
      "\n",
      "       angry       0.20      0.19      0.20       359\n",
      "        fear       0.23      0.21      0.22       369\n",
      "       happy       0.21      0.23      0.22       376\n",
      "     neutral       0.20      0.21      0.21       372\n",
      "         sad       0.18      0.18      0.18       377\n",
      "\n",
      "    accuracy                           0.20      1853\n",
      "   macro avg       0.20      0.20      0.20      1853\n",
      "weighted avg       0.20      0.20      0.20      1853\n",
      "\n",
      "✅ Model saved as male_emotion_model.pkl\n"
     ]
    }
   ],
   "source": [
    "import numpy as np\n",
    "import pandas as pd\n",
    "import librosa\n",
    "from sklearn.model_selection import train_test_split\n",
    "from sklearn.ensemble import RandomForestClassifier\n",
    "from sklearn.metrics import classification_report, accuracy_score\n",
    "import joblib\n",
    "\n",
    "# Use the male_data with 'file_path' and 'emotion'\n",
    "df = male_data.copy()\n",
    "\n",
    "# Function to extract MFCC features from audio\n",
    "def extract_features(file_path, n_mfcc=13):\n",
    "    try:\n",
    "        y, sr = librosa.load(file_path, sr=None)\n",
    "        mfccs = librosa.feature.mfcc(y=y, sr=sr, n_mfcc=n_mfcc)\n",
    "        return np.mean(mfccs.T, axis=0)\n",
    "    except:\n",
    "        return np.zeros(n_mfcc)  # in case audio can't be read\n",
    "\n",
    "# Extract features for all files\n",
    "features = np.array([extract_features(f) for f in df['file_path']])\n",
    "labels = df['emotion'].values\n",
    "\n",
    "# Split dataset\n",
    "X_train, X_test, y_train, y_test = train_test_split(features, labels, test_size=0.2, random_state=42, stratify=labels)\n",
    "\n",
    "# Train a Random Forest classifier\n",
    "clf = RandomForestClassifier(n_estimators=100, random_state=42)\n",
    "clf.fit(X_train, y_train)\n",
    "\n",
    "# Evaluate\n",
    "y_pred = clf.predict(X_test)\n",
    "print(\"Accuracy:\", accuracy_score(y_test, y_pred))\n",
    "print(\"Classification Report:\\n\", classification_report(y_test, y_pred))\n",
    "\n",
    "# Save the model\n",
    "joblib.dump(clf, \"male_emotion_model.pkl\")\n",
    "print(\"✅ Model saved as male_emotion_model.pkl\")\n"
   ]
  },
  {
   "cell_type": "code",
   "execution_count": null,
   "id": "cd53713e-dfcc-4cf9-9b5a-aeb68659d23d",
   "metadata": {},
   "outputs": [],
   "source": []
  }
 ],
 "metadata": {
  "kernelspec": {
   "display_name": "Python [conda env:base] *",
   "language": "python",
   "name": "conda-base-py"
  },
  "language_info": {
   "codemirror_mode": {
    "name": "ipython",
    "version": 3
   },
   "file_extension": ".py",
   "mimetype": "text/x-python",
   "name": "python",
   "nbconvert_exporter": "python",
   "pygments_lexer": "ipython3",
   "version": "3.12.7"
  }
 },
 "nbformat": 4,
 "nbformat_minor": 5
}
